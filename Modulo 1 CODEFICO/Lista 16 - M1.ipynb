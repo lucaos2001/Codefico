{
  "cells": [
    {
      "cell_type": "markdown",
      "metadata": {
        "id": "0Ac3c4Fj75Ym"
      },
      "source": [
        "# Resumo:\n",
        "\n",
        "- lista.remove(item): O método remove() é usado para remover a primeira ocorrência de um item específico da lista. Ele procura pelo item na lista e o remove quando encontrado. Se houver várias ocorrências do item, apenas a primeira será removida.\n",
        "\n",
        "- lista.append(item): O método append() é usado para adicionar um item ao final da lista. Ele modifica a lista ao inserir o item fornecido no final da sequência.\n",
        "\n",
        "- min(lista): A função min() retorna o menor valor em uma lista. Ela recebe uma lista como argumento e retorna o elemento de menor valor na lista.\n",
        "\n",
        "## Dicas:\n",
        "- Questão 1: Não confundam soma com adicionar elemento a lista\n",
        "- Questão 3: utilize uma função que retornam True ou False\n",
        "- Questão 4: utilize funções, e lembre que em Python, uma lista vazia é considerada um valor falso em um contexto booleano, enquanto uma lista não vazia é considerada verdadeira. Portanto, quando você usa while(lista), o loop continuará a ser executado enquanto houver elementos na lista.\n",
        "  - encontre o menor\n",
        "  - imprima o menor\n",
        "  - remova o menor"
      ]
    },
    {
      "cell_type": "markdown",
      "metadata": {
        "id": "0TGE4uKjCGFd"
      },
      "source": [
        "## Questão 1:\n",
        "\n",
        "Preencha um vetor X de 10 elementos inteiros e positivos.\n",
        "Criar um vetor Y da seguinte forma:\n",
        "\n",
        "- Os elementos de Y com índice par receberão os  respectivos  elementos  de  X  divididos  por  2;  \n",
        "\n",
        "- Os elementos de Y com índice ímpar\n",
        "receberão os respectivos elementos de X\n",
        "multiplicados por 3.\n",
        "\n",
        "No final, imprima o vetor X e o vetor Y.\n",
        "\n"
      ]
    },
    {
      "cell_type": "markdown",
      "metadata": {
        "id": "2rI9TAcaeD6u"
      },
      "source": [
        "### Exemplo de execução:\n",
        "\n",
        "Digite o 0º elemento: 5<br/>\n",
        "Digite o 1º elemento: 8<br/>\n",
        "Digite o 2º elemento: 12<br/>\n",
        "Digite o 3º elemento: 3<br/>\n",
        "Digite o 4º elemento: 6<br/>\n",
        "Digite o 5º elemento: 9<br/>\n",
        "Digite o 6º elemento: 10<br/>\n",
        "Digite o 7º elemento: 2<br/>\n",
        "Digite o 8º elemento: 4<br/>\n",
        "Digite o 9º elemento: 7<br/>\n",
        "Vector X: [5.0, 8.0, 12.0, 3.0, 6.0, 9.0, 10.0, 2.0, 4.0, 7.0]<br/>\n",
        "Vector Y: [2.5, 24.0, 6.0, 9.0, 3.0, 27.0, 5.0, 6.0, 2.0, 21.0]"
      ]
    },
    {
      "cell_type": "code",
      "execution_count": 4,
      "metadata": {
        "id": "lmIyKLIm9fGa"
      },
      "outputs": [
        {
          "name": "stdout",
          "output_type": "stream",
          "text": [
            "Vetor x [5.0, 8.0, 12.0, 3.0, 6.0, 9.0, 10.0, 2.0, 4.0, 7.0]\n",
            "Vetor y [2.5, 24.0, 6.0, 9.0, 3.0, 27.0, 5.0, 6.0, 2.0, 21.0]\n"
          ]
        }
      ],
      "source": [
        "VectorX = []\n",
        "VectorY = []\n",
        "\n",
        "\n",
        "\n",
        "for i in range(10):\n",
        "    numero = float(input(f\"Digite o {i}° elemento: \"))\n",
        "    VectorX.append(numero)\n",
        "    if i % 2 == 0:\n",
        "        VectorY.append(VectorX[i] / 2)\n",
        "    else:\n",
        "        VectorY.append(VectorX[i] * 3)\n",
        "\n",
        "print(f\"Vetor x {VectorX}\")\n",
        "print(f\"Vetor y {VectorY}\")\n"
      ]
    },
    {
      "cell_type": "markdown",
      "metadata": {
        "id": "sW0Qou4gCFf_"
      },
      "source": [
        "## Questão 2:\n",
        "\n",
        "Digite 10 números em um vetor e no final\n",
        "imprima a média, o maior e o menor número.\n"
      ]
    },
    {
      "cell_type": "markdown",
      "metadata": {
        "id": "_DAY_mQanTOc"
      },
      "source": [
        "### Exemplo de execução:\n",
        "\n",
        "Digite o 1º elemento: 2<br/>\n",
        "Digite o 2º elemento: -2<br/>\n",
        "Digite o 3º elemento: 8<br/>\n",
        "Digite o 4º elemento: 18<br/>\n",
        "Digite o 5º elemento: 26<br/>\n",
        "Digite o 6º elemento: 8<br/>\n",
        "Digite o 7º elemento: 10<br/>\n",
        "Digite o 8º elemento: -6<br/>\n",
        "Digite o 9º elemento: 9<br/>\n",
        "Digite o 10º elemento: 9<br/>\n",
        "media: 8.2<br/>\n",
        "maior: 26.0<br/>\n",
        "menor: -6.0<br/>"
      ]
    },
    {
      "cell_type": "code",
      "execution_count": 8,
      "metadata": {
        "id": "7dWjxo2L9f3t"
      },
      "outputs": [
        {
          "name": "stdout",
          "output_type": "stream",
          "text": [
            "media: 8.2\n",
            "maior: 26.0\n",
            "menor: -6.0\n"
          ]
        }
      ],
      "source": [
        "numeros = []\n",
        "maior = 0\n",
        "menor = 0\n",
        "soma = 0\n",
        "\n",
        "for i in range(10):\n",
        "    numero = float(input(f\"Digite o {i+1}° elemento: \"))\n",
        "    numeros.append(numero)\n",
        "    if numeros[i] > maior:\n",
        "        maior = numeros[i]\n",
        "    elif numeros[i] < menor:\n",
        "        menor = numeros[i]\n",
        "    soma += numero\n",
        "\n",
        "print(f\"media: {soma/10}\")\n",
        "print(f\"maior: {maior}\")\n",
        "print(f\"menor: {menor}\")"
      ]
    },
    {
      "cell_type": "markdown",
      "metadata": {
        "id": "2ujW198MCUDy"
      },
      "source": [
        "## Questão 3:\n",
        "Criar um programa que solicita uma string e\n",
        "verifica se ela é um palíndromo ou não. Um\n",
        "palíndromo é uma string que, quando invertida,\n",
        "se mantém igual a original. Por exemplo: arara."
      ]
    },
    {
      "cell_type": "markdown",
      "metadata": {
        "id": "804VTQ5NvSpU"
      },
      "source": [
        "### Exemplo de execução:\n",
        "\n",
        "Digite uma palavra: arara\n",
        "A palavra \"arara\" é um palíndromo."
      ]
    },
    {
      "cell_type": "code",
      "execution_count": 38,
      "metadata": {
        "id": "pfbT4ZEW9gil"
      },
      "outputs": [
        {
          "name": "stdout",
          "output_type": "stream",
          "text": [
            "A palavra arara é um palíndromo\n"
          ]
        }
      ],
      "source": [
        "def palindromo(linha):\n",
        "    tamanho = len(linha)\n",
        "    palindromo = 1\n",
        "    if tamanho == 0:\n",
        "        palindromo = 0\n",
        "    for i in range(0, tamanho // 2):\n",
        "        if linha[i] != linha[tamanho - i - 1]:\n",
        "            palindromo = 0\n",
        "    return palindromo\n",
        "\n",
        "linha = input(\"Digite uma palavra: \")\n",
        "x = palindromo(linha)\n",
        "if x == 1:\n",
        "    print(f\"A palavra {linha} é um palíndromo\")\n",
        "else:\n",
        "    print(f\"A palavra {linha} não é um palíndromo\")\n"
      ]
    },
    {
      "cell_type": "markdown",
      "metadata": {
        "id": "2wg89-7zb4Ax"
      },
      "source": [
        "## Questão 4:\n",
        "\n",
        "Crie um programa que armazena diversos inteiros\n",
        "em uma lista e depois os imprime em ordem de tamanho, cada numero em uma linha."
      ]
    },
    {
      "cell_type": "markdown",
      "metadata": {
        "id": "vSv7IYC57M01"
      },
      "source": [
        "### Exemplo de execução:\n",
        "\n",
        "Digite a quantidade de números que deseja armazenar: 5<br>\n",
        "Digite um número: 2<br>\n",
        "Digite um número: -4<br>\n",
        "Digite um número: 16<br>\n",
        "Digite um número: -8<br>\n",
        "Digite um número: 0<br>\n",
        "Números em ordem de tamanho:<br>\n",
        "-8  -4  0  2  16<br>"
      ]
    },
    {
      "cell_type": "code",
      "execution_count": 9,
      "metadata": {
        "id": "KhDvoq3sc2ag"
      },
      "outputs": [
        {
          "name": "stdout",
          "output_type": "stream",
          "text": [
            "-8.0 , -4.0 , 0.0 , 2.0 , 16.0 , "
          ]
        }
      ],
      "source": [
        "armazenados = []\n",
        "\n",
        "quantidade = int(input(\"Digite a quantidade de números que deseja armazenar: \"))\n",
        "for i in range(quantidade):\n",
        "    num = float(input(\"Digite um número: \"))\n",
        "    armazenados.append(num)\n",
        "\n",
        "while armazenados:\n",
        "    menor = min(armazenados)\n",
        "    print(f\"{menor} \", end=\", \")\n",
        "    armazenados.remove(menor) \n"
      ]
    }
  ],
  "metadata": {
    "colab": {
      "provenance": []
    },
    "kernelspec": {
      "display_name": "Python 3",
      "name": "python3"
    },
    "language_info": {
      "codemirror_mode": {
        "name": "ipython",
        "version": 3
      },
      "file_extension": ".py",
      "mimetype": "text/x-python",
      "name": "python",
      "nbconvert_exporter": "python",
      "pygments_lexer": "ipython3",
      "version": "3.11.4"
    }
  },
  "nbformat": 4,
  "nbformat_minor": 0
}
