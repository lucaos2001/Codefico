{
  "cells": [
    {
      "cell_type": "markdown",
      "metadata": {
        "id": "hsB4Bo4jhTEg"
      },
      "source": [
        "# Resumo\n",
        "\n",
        "- O conceito de repeticão ou laco (em ingles, loop)  e usado para realizar tarefas de forma repetitiva, ou seja, executar uma serie de comandos um determinado numero de vezes ou enquanto uma dada condicao for verdadeira.\n",
        "\n",
        "- O primeiro recurso que veremos em Python para implementar lacos é o while, que serve para realizar um conjunto de tarefas enquanto uma dada condicao for verdadeira. While eh um termo do ingles que significa enquanto.\n",
        "\n",
        "- Como mostrado abaixo, a sintaxe do comando while envolve a definicao de uma condicao que, enquanto verdadeira, determinar a repeticao e execucao do bloco de comandos (no exemplo, composto pelas linhas 4 e 5, devido a indentacao).\n"
      ]
    },
    {
      "cell_type": "markdown",
      "metadata": {
        "id": "7UIMCyNXqtJ-"
      },
      "source": [
        "# Conteudo auxiliar\n",
        "- Para gerar números aleatórios em Python, você pode utilizar a função randint do módulo random. Essa função permite gerar um número inteiro aleatório dentro de um intervalo específico.\n",
        "- Para utilizá-la, é necessário importar o módulo random no início do seu programa.\n",
        "-Após importar o módulo random, você pode utilizar a função randint da seguinte forma para gerar um número aleatório entre dois valores, digamos a e b:"
      ]
    },
    {
      "cell_type": "code",
      "execution_count": null,
      "metadata": {
        "colab": {
          "base_uri": "https://localhost:8080/"
        },
        "id": "WBOl2aRBq9b0",
        "outputId": "baaf9597-3816-4efb-b0ad-2395d9305712"
      },
      "outputs": [
        {
          "name": "stdout",
          "output_type": "stream",
          "text": [
            "3\n"
          ]
        }
      ],
      "source": [
        "import random\n",
        "numero_aleatorio = random.randint(0, 100)\n",
        "\n",
        "print(f'{numero_aleatorio}')\n"
      ]
    },
    {
      "cell_type": "markdown",
      "metadata": {
        "id": "9e8LIQTAidva"
      },
      "source": [
        "# Exercicios\n",
        "## Questão 1:\n",
        "\n",
        "**Descrição**: Escreva um programa que receba um número inteiro do usuário e calcule a soma de todos os números inteiros de 1 até o número digitado.\n",
        "\n",
        "**Exemplo de execução 1:**\n",
        "\n",
        "Digite um número inteiro: 5<br>A soma de todos os números inteiros até 5 é 15.\n",
        "\n",
        "**Exemplo de execução 2:**\n",
        "\n",
        "Digite um número inteiro: 10<br>A soma de todos os números inteiros até 10 é 55.\n",
        "\n",
        "**Exemplo de execução 3:**\n",
        "\n",
        "Digite um número inteiro: 1\n",
        "<br>A soma de todos os números inteiros até 1 é 1."
      ]
    },
    {
      "cell_type": "code",
      "execution_count": 1,
      "metadata": {
        "colab": {
          "base_uri": "https://localhost:8080/"
        },
        "id": "JSQ2WUs0hXHB",
        "outputId": "e773ceec-70b1-4b0a-b0aa-e29d2b3b10fb"
      },
      "outputs": [
        {
          "name": "stdout",
          "output_type": "stream",
          "text": [
            "A soma de todos os números inteiros até 5 é 15.\n"
          ]
        }
      ],
      "source": [
        "soma = 0\n",
        "num = int(input('Digite um número inteiro: '))\n",
        "cont = 1\n",
        "\n",
        "while cont <= num:\n",
        "  soma = soma + cont\n",
        "  cont += 1 # cont = cont + 1\n",
        "\n",
        "print(f'A soma de todos os números inteiros até {num} é {soma}.')"
      ]
    },
    {
      "cell_type": "markdown",
      "metadata": {
        "id": "0XDuA0pdlMI5"
      },
      "source": [
        "## Questão 2:\n",
        "Você foi contratado por uma empresa química que precisa resolver algumas fórmulas matemáticas para desenvolver produtos químicos. Você foi o escolhido para encontrar o fatorial de um número. Calcular o fatorial de um número só faz sentido quando estamos trabalhando com números naturais. Essa operação é bastante comum na análise combinatória, facilitando o cálculo de arranjos, permutações, combinações e demais problemas envolvendo contagem. O fatorial é representado pelo símbolo \"!\". Definimos como n! (n fatorial) a multiplicação sucessiva de n por todos os seus antecessores até chegar em 1. A equação do fatorial pode ser definida como: n! = n × (n − 1) × (n − 2) × ... × 3 × 2 × 1. Observe que o número definido é sempre inteiro, mas o programa \"força\" a entrada de um número maior do que 0 (zero).\n",
        "\n",
        "**Exemplo de execução 1:**\n",
        "\n",
        "Informe o número que deseja calcular o Fatorial: -2<br>Número inválido, defina outro: 4<br>\n",
        "O Fatorial de 4 é: 24\n",
        "\n",
        "**Exemplo de execução 2:**\n",
        "\n",
        "Informe o número que deseja calcular o Fatorial: -5<br>\n",
        "Número inválido, defina outro: -2<br>\n",
        "Número inválido, defina outro: 0<br>\n",
        "Número inválido, defina outro: 6<br>\n",
        "O Fatorial de 6 é: 720\n",
        "\n",
        "**Exemplo de execução 3:**\n",
        "\n",
        "Informe o número que deseja calcular o Fatorial: 7<br>\n",
        "O Fatorial de 7 é: 5040\n",
        "\n"
      ]
    },
    {
      "cell_type": "code",
      "execution_count": 3,
      "metadata": {
        "colab": {
          "base_uri": "https://localhost:8080/"
        },
        "id": "neKUL9NZljJd",
        "outputId": "2d62b0c8-85e8-423e-c10d-8dd846380653"
      },
      "outputs": [
        {
          "name": "stdout",
          "output_type": "stream",
          "text": [
            "O Fatorial de 6 é: 720\n"
          ]
        }
      ],
      "source": [
        "\n",
        "n = int(input('Informe o número que deseja calcular o Fatorial: '))\n",
        "while n <= 0:\n",
        "  n = int(input('Número inválido, defina outro: '))\n",
        "\n",
        "prod = 1\n",
        "cont = 1\n",
        "while cont <= n:\n",
        "  prod = prod * cont\n",
        "  cont += 1\n",
        "\n",
        "print(f'O Fatorial de {n} é: {prod}')\n"
      ]
    },
    {
      "cell_type": "markdown",
      "metadata": {
        "id": "W_TW0LgSmEqA"
      },
      "source": [
        "## Questão 3:\n",
        "Descrição: Você foi contratado por uma empresa financeira que realiza empréstimos com cobrança de juros simples. O cálculo dos juros é realizado da seguinte forma: J = C × t × m, onde J é o valor dos juros devido, C é o capital emprestado, t é a taxa de juros do período e m é a quantidade de meses para quitação da dívida. A taxa de juros depende do capital emprestado: para valores menores ou iguais a R\\$ 10.000,00, a taxa de juros é de 10% ao mês (ou seja, t = 0,1), enquanto para valores maiores do que R\\$ 10.000,00, a taxa de juros é de 7% ao mês (ou seja, t = 0,07).\n",
        "\n",
        "Implemente um programa que receba inicialmente o valor do capital total (T, em reais) que você possui para fazer empréstimos. Em seguida, você realizará empréstimos enquanto tiver capital total suficiente. A cada empréstimo realizado, você receberá duas entradas: C (em reais) e m (inteiro), e determinará a taxa de juros t, levando em consideração o valor do capital emprestado. Em seguida, calcule o valor de juros devido (J) e imprima a taxa de juros aplicada (valor percentual, com 0 casas decimais), o juros devido calculado (J, com 2 casas decimais) e o valor total da dívida (soma do capital emprestado e os juros devidos, também com 2 casas decimais). Após cada empréstimo, atualize seu capital total (T = T - C). O programa encerrará quando o valor do capital total T for insuficiente para fornecer o empréstimo solicitado C, e imprimirá uma mensagem de encerramento com o capital total final (com duas casas decimais). Nesse caso, o empréstimo será negado, o valor de m não será solicitado e o programa será encerrado.\n",
        "\n",
        "**Exemplo de execução 1:**\n",
        "\n",
        "Forneça o capital Total para empréstimo: 10000<br>\n",
        "Forneça o capital emprestado: 20000<br>\n",
        "Empréstimo negado, capital total é de R$ 10000.00.<br>\n",
        "\n",
        "**Exemplo de execução 2:**\n",
        "\n",
        "Forneça o capital Total para empréstimo: 20000<br>\n",
        "Forneça o capital emprestado: 9001<br>\n",
        "Forneça a quantidade de meses para quitação: 4<br>\n",
        "Taxa de juros aplicada: 10%.<br>\n",
        "Juros devido: 3600.40.<br>\n",
        "Valor total: 12601.40.<br>\n",
        "Forneça o capital emprestado: 10104<br>\n",
        "Forneça a quantidade de meses para quitação: 3<br>\n",
        "Taxa de juros aplicada: 7%.<br>\n",
        "Juros devido: 2121.84.<br>\n",
        "Valor total: 12225.84.<br>\n",
        "Forneça o capital emprestado: 5643<br>\n",
        "Empréstimo negado, capital total é de R$ 895.00.\n",
        "\n",
        "**Exemplo de execução 3:**\n",
        "\n",
        "Forneça o capital Total para empréstimo: 1250<br>\n",
        "Forneça o capital emprestado: 1250<br>\n",
        "Forneça a quantidade de meses para quitação: 5<br>\n",
        "Taxa de juros aplicada: 10%.<br>\n",
        "Juros devido: 625.00.<br>\n",
        "Valor total: 1875.00.<br>\n",
        "Forneça o capital emprestado: 1<br>\n",
        "Empréstimo negado, capital total é de R$ 0.00.\n"
      ]
    },
    {
      "cell_type": "code",
      "execution_count": null,
      "metadata": {
        "colab": {
          "base_uri": "https://localhost:8080/"
        },
        "id": "jZ3oaALenG07",
        "outputId": "061065c0-ec17-4198-dfb4-a5fef4a712dd"
      },
      "outputs": [
        {
          "name": "stdout",
          "output_type": "stream",
          "text": [
            "Forneça o capital Total para empréstimo: 20000\n",
            "Forneça o capital emprestado: 9001\n",
            "Forneça a quantidade de meses para quitação: 4\n",
            "Taxa de juros aplicada: 10%\n",
            "Juros devido: 3600.40\n",
            "Valor total: 12601.40\n",
            "Forneça o capital emprestado: 10104\n",
            "Forneça a quantidade de meses para quitação: 3\n",
            "Taxa de juros aplicada: 7%\n",
            "Juros devido: 2121.84\n",
            "Valor total: 12225.84\n",
            "Forneça o capital emprestado: 5643\n",
            "Empréstimo negado, capital total é de R$895.00\n"
          ]
        }
      ],
      "source": [
        "T = float(input('Forneça o capital Total para empréstimo: '))\n",
        "C = float(input('Forneça o capital emprestado: '))\n",
        "\n",
        "while C <= T: # tem dinheiro para emprestar\n",
        "  m = int(input('Forneça a quantidade de meses para quitação: '))\n",
        "  if C <= 10000:\n",
        "    taxa = 0.1\n",
        "    print('Taxa de juros aplicada: 10%')\n",
        "  else:\n",
        "    taxa = 0.07\n",
        "    print(f'Taxa de juros aplicada: 7%')\n",
        "  juros = m*C*taxa\n",
        "  print(f'Juros devido: {juros:.2f}')\n",
        "  total = juros + C\n",
        "  print(f'Valor total: {total:.2f}')\n",
        "  T = T - C\n",
        "  C = float(input('Forneça o capital emprestado: '))\n",
        "print(f'Empréstimo negado, capital total é de R${T:.2f}')\n"
      ]
    },
    {
      "cell_type": "markdown",
      "metadata": {
        "id": "w5AfHh6NpxLM"
      },
      "source": [
        "## Questão 4: Adivinhe o número!\n",
        "Escreva um programa em Python que gere um número inteiro aleatório entre 1 e 100 e desafie o usuário a adivinhar esse número. O programa deve fornecer dicas ao usuário, informando se o número que ele digitou é maior ou menor do que o número a ser adivinhado. O programa deve continuar executando até que o usuário acerte o número. Ao final, exiba a quantidade de tentativas que o usuário fez para acertar.\n",
        "\n",
        "**Exemplo de execução:**\n",
        "\n",
        "Bem-vindo ao jogo de adivinhar o número!<br>\n",
        "Tente adivinhar qual número eu estou pensando (entre 1 e 100).<br>\n",
        "Digite o seu palpite: 50<br>\n",
        "O número que estou pensando é maior do que 50. Tente novamente.<br>\n",
        "\n",
        "Digite o seu palpite: 75<br>\n",
        "O número que estou pensando é menor do que 75. Tente novamente.<br>\n",
        "\n",
        "Digite o seu palpite: 63<br>\n",
        "Parabéns! Você acertou o número em 3 tentativas"
      ]
    },
    {
      "cell_type": "code",
      "execution_count": null,
      "metadata": {
        "colab": {
          "base_uri": "https://localhost:8080/"
        },
        "id": "ehAb-m9cqeBV",
        "outputId": "b068dc11-7788-4957-c427-62fd916fb297"
      },
      "outputs": [
        {
          "name": "stdout",
          "output_type": "stream",
          "text": [
            "Bem-vindo ao jogo de adivinhar o número!\n",
            "Tente adivinhar qual número eu estou pensando (entre 1 e 100).\n",
            "Digite o seu palpite: 50\n",
            "O número que estou pensando é maior do que 50. Tente novamente.\n",
            "Digite o seu palpite: 75\n",
            "O número que estou pensando é menor do que 75. Tente novamente.\n",
            "Digite o seu palpite: 63\n",
            "O número que estou pensando é menor do que 63. Tente novamente.\n",
            "Digite o seu palpite: 55\n",
            "O número que estou pensando é menor do que 55. Tente novamente.\n",
            "Digite o seu palpite: 52\n",
            "Parabéns! Você acertou o número em 5 tentativa(s)\n"
          ]
        }
      ],
      "source": [
        "import random\n",
        "alea = random.randint(0, 100)\n",
        "print(f'Bem-vindo ao jogo de adivinhar o número!\\nTente adivinhar qual número eu estou pensando (entre 1 e 100).')\n",
        "palpite = -1\n",
        "\n",
        "cont = 0\n",
        "while palpite != alea:\n",
        "  cont += 1\n",
        "  palpite = int(input('Digite o seu palpite: '))\n",
        "  if alea < palpite:\n",
        "    print(f'O número que estou pensando é menor do que {palpite}. Tente novamente.')\n",
        "  elif alea > palpite:\n",
        "    print(f'O número que estou pensando é maior do que {palpite}. Tente novamente.')\n",
        "  else:\n",
        "    print(f'Parabéns! Você acertou o número em {cont} tentativa(s)')\n",
        "\n"
      ]
    },
    {
      "cell_type": "markdown",
      "metadata": {
        "id": "E_ca4PS7pzaT"
      },
      "source": [
        "## Questão 5: Contagem regressiva animada\n",
        "Escreva um programa em Python que utilize o comando while para exibir uma contagem regressiva animada. O programa deve solicitar ao usuário quantos segundos deseja na contagem regressiva e, em seguida, iniciar a contagem regressiva a partir desse valor, exibindo cada número na tela e aguardando um segundo entre cada número.\n",
        "\n",
        "**Exemplo de execução:**\n",
        "\n",
        "Quantos segundos deseja na contagem regressiva? 5<br>\n",
        "Iniciando contagem regressiva...<br>\n",
        "5<br>\n",
        "4<br>\n",
        "3<br>\n",
        "2<br>\n",
        "1<br>\n",
        "Boom! FELIZ ANO NOVO!"
      ]
    },
    {
      "cell_type": "code",
      "execution_count": null,
      "metadata": {
        "colab": {
          "base_uri": "https://localhost:8080/"
        },
        "id": "F_2Dw5RupkuO",
        "outputId": "d9f3a803-c288-42a4-9271-fcab291beeed"
      },
      "outputs": [
        {
          "name": "stdout",
          "output_type": "stream",
          "text": [
            "Quantos segundos deseja na contagem regressiva? 5\n",
            "Iniciando contagem regressiva...\n",
            "5\n",
            "4\n",
            "3\n",
            "2\n",
            "1\n",
            "Boom! FELIZ ANO NOVO!\n"
          ]
        }
      ],
      "source": [
        "import time\n",
        "seg = int(input('Quantos segundos deseja na contagem regressiva? '))\n",
        "cont = seg\n",
        "print('Iniciando contagem regressiva...')\n",
        "time.sleep(1)\n",
        "while cont > 0:\n",
        "  print(f'{cont}')\n",
        "  time.sleep(1)\n",
        "  cont -= 1\n",
        "print('Boom! FELIZ ANO NOVO!')\n",
        "\n",
        "\n"
      ]
    }
  ],
  "metadata": {
    "colab": {
      "provenance": []
    },
    "kernelspec": {
      "display_name": "Python 3",
      "name": "python3"
    },
    "language_info": {
      "codemirror_mode": {
        "name": "ipython",
        "version": 3
      },
      "file_extension": ".py",
      "mimetype": "text/x-python",
      "name": "python",
      "nbconvert_exporter": "python",
      "pygments_lexer": "ipython3",
      "version": "3.11.4"
    }
  },
  "nbformat": 4,
  "nbformat_minor": 0
}
