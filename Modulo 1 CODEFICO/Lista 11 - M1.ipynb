{
  "cells": [
    {
      "cell_type": "markdown",
      "metadata": {
        "id": "AKYWtwEb1JHN"
      },
      "source": []
    },
    {
      "cell_type": "markdown",
      "metadata": {
        "id": "-QZMxv6SIvSs"
      },
      "source": [
        "## Conteudo complementar\n",
        "O MMC (Mínimo Múltiplo Comum) é um conceito matemático utilizado para determinar o menor múltiplo comum de dois ou mais números inteiros. É o menor número inteiro positivo que é divisível por todos os números dados.\n",
        "\n",
        "Para calcular o MMC de dois números, é necessário encontrar os múltiplos de cada número até encontrar o primeiro múltiplo comum entre eles. O menor múltiplo comum será o resultado desse cálculo.\n",
        "\n",
        "Por exemplo, vamos calcular o MMC de 4 e 6:\n",
        "\n",
        "Múltiplos de 4: 4, 8, 12, 16, 20, 24, ...\n",
        "Múltiplos de 6: 6, 12, 18, 24, 30, ...\n",
        "Podemos ver que o primeiro múltiplo comum entre 4 e 6 é 12. Portanto, o MMC de 4 e 6 é 12.\n",
        "\n",
        "O MMC é útil em diversas áreas, especialmente em problemas que envolvem frações, divisão de números inteiros ou situações em que é necessário encontrar um valor comum para múltiplos diferentes."
      ]
    },
    {
      "cell_type": "markdown",
      "metadata": {
        "id": "m8d4zNPLwFAC"
      },
      "source": [
        "## Questão 1\n",
        "Faça um programa que calcule a multiplicação de dois números utilizando apenas a operação de soma.\n",
        "\n",
        "### Exemplo de execução 1:\n",
        "Digite o primeiro número: 8<br/>\n",
        "Digite o segundo número: 12<br/>\n",
        "A multiplicação de 8 por 12 é: 96<br/>"
      ]
    },
    {
      "cell_type": "code",
      "execution_count": 1,
      "metadata": {
        "id": "fE9TF8H81GcG"
      },
      "outputs": [
        {
          "name": "stdout",
          "output_type": "stream",
          "text": [
            "A multiplicação de 8 por 12 é: 96\n"
          ]
        }
      ],
      "source": [
        "num1 = int(input(\"Digite o primeiro número: \"))\n",
        "num2 = int(input(\"Digite o segundo número: \"))\n",
        "cont = 0\n",
        "soma = 0\n",
        "while  cont < num2:\n",
        "    cont += 1\n",
        "    soma = num1 + soma\n",
        "print(f\"A multiplicação de {num1} por {num2} é: {soma}\")"
      ]
    },
    {
      "cell_type": "markdown",
      "metadata": {
        "id": "ct1vZdfYwJaW"
      },
      "source": [
        "## Questão 2\n",
        "Faça um programa que calcule a média de n números informados pelo usuário até ele informar o número 0. Por exemplo, se o usuário informar os números 9 6 2 8 0, o programa deve calcular a média (9+ 6 + 2 + 8) / 4.\n",
        "\n",
        "### Exemplo de execução\n",
        "Digite um número (0 para sair): 5<br/>\n",
        "Digite um número (0 para sair): 8<br/>\n",
        "Digite um número (0 para sair): 3<br/>\n",
        "Digite um número (0 para sair): 0<br/>\n",
        "A média dos números digitados é: 5.333333333333333"
      ]
    },
    {
      "cell_type": "code",
      "execution_count": 32,
      "metadata": {
        "id": "e92_CD_M1GF1"
      },
      "outputs": [
        {
          "name": "stdout",
          "output_type": "stream",
          "text": [
            "A média dos números digitados é: 5.333333333333333\n"
          ]
        }
      ],
      "source": [
        "contador = 0\n",
        "soma = 0\n",
        "while True: \n",
        "    num = float(input(\"Digite o primeiro número: \"))\n",
        "    if num <= 0:\n",
        "        break\n",
        "    soma += num\n",
        "    contador += 1\n",
        "print(f\"A média dos números digitados é: {soma/contador}\")"
      ]
    },
    {
      "cell_type": "markdown",
      "metadata": {
        "id": "mnpugrALwOSn"
      },
      "source": [
        "## Questão 3\n",
        "\n",
        "Faça um programa que calcule o mínimo múltiplo comum (MMC) de dois inteiros.\n",
        "\n",
        "### Exemplo de execução 1:\n",
        "Digite o primeiro número: 8<br/>\n",
        "Digite o segundo número: 12<br/>\n",
        "O MMC de 8 e 12 é: 24\n",
        "\n",
        "### Exemplo de execução 2:\n",
        "Digite o primeiro número: 5<br/>\n",
        "Digite o segundo número: 7<br/>\n",
        "O MMC de 5 e 7 é: 35"
      ]
    },
    {
      "cell_type": "code",
      "execution_count": 73,
      "metadata": {
        "id": "sSTdhMkM1FxK"
      },
      "outputs": [
        {
          "name": "stdout",
          "output_type": "stream",
          "text": [
            "O MMC de 4 e 36 é: 36\n"
          ]
        }
      ],
      "source": [
        "num1 = int(input(\"Digite o primeiro número: \"))\n",
        "num2 = int(input(\"Digite o segundo número: \"))\n",
        "cont = 1\n",
        "while True:\n",
        "    if cont % num1 == 0 and cont % num2 == 0:\n",
        "        break\n",
        "    \n",
        "    cont +=1\n",
        "\n",
        "print(f\"O MMC de {num1} e {num2} é: {cont}\")"
      ]
    },
    {
      "cell_type": "markdown",
      "metadata": {
        "id": "p3gbRNKNwgHw"
      },
      "source": [
        "## Questão 4\n",
        "Para que serve o comando continue? Explique com suas palavras, e escreva um código que exemplifica sua explicação"
      ]
    },
    {
      "cell_type": "markdown",
      "metadata": {
        "id": "M8l2Ku6YGrgk"
      },
      "source": [
        "Resposta:"
      ]
    },
    {
      "cell_type": "code",
      "execution_count": 68,
      "metadata": {
        "id": "op_i7FwG1FTS"
      },
      "outputs": [
        {
          "name": "stdout",
          "output_type": "stream",
          "text": [
            "14\n"
          ]
        }
      ],
      "source": [
        "#O continue executa novamente uma validação dentro de um loop.\n",
        "\n",
        "while True:\n",
        "    num1 = int(input(\"Digite um numero\"))\n",
        "    if num1 < 0:\n",
        "        break\n",
        "    if num1 == 22:\n",
        "        num1 = int(input(\"22 não é um numero valido, digite outro numero\"))\n",
        "        continue\n",
        "    soma += num1\n",
        "    \n",
        "print(soma)"
      ]
    },
    {
      "cell_type": "markdown",
      "metadata": {
        "id": "bk_CG0DpxkJa"
      },
      "source": [
        "## Questão 5\n",
        "Faça um programa que desenha um retângulo de altura \"a\" e largura \"l\" usando asteriscos. O usuário deve informar os valores de \"a\" e \"l\", que devem ser maiores que zero e tais que l > a. Note que o seu programa deve\n",
        "garantir que os valores digitados sejam válidos, forçando entradas válidas. O programa também deve perguntar se o usuário gostaria de gerar um retângulo antes de fazer cada impressão. O programa termina assim que o\n",
        "usuário responder \"n\" à pergunta.<br/>\n",
        "### Exemplo de execução:\n",
        "Informe se deseja imprimir um retângulo (s/n): s<br/>\n",
        "Informe a altura do retângulo: 10<br/>\n",
        "Informe a largura do retângulo: 8<br/>\n",
        "Entrada inválida.<br/>\n",
        "Informe a altura do retângulo: 10<br/>\n",
        "Informe a largura do retângulo: 20<br/>\n",
        "\\*\\*\\*\\*\\*\\*\\*\\*\\*\\*\\*\\*\\*\\*\\*\\*\\*\\*\\*\\*<br/>\n",
        "\\*\\*\\*\\*\\*\\*\\*\\*\\*\\*\\*\\*\\*\\*\\*\\*\\*\\*\\*\\*<br/>\n",
        "\\*\\*\\*\\*\\*\\*\\*\\*\\*\\*\\*\\*\\*\\*\\*\\*\\*\\*\\*\\*<br/>\n",
        "\\*\\*\\*\\*\\*\\*\\*\\*\\*\\*\\*\\*\\*\\*\\*\\*\\*\\*\\*\\*<br/>\n",
        "\\*\\*\\*\\*\\*\\*\\*\\*\\*\\*\\*\\*\\*\\*\\*\\*\\*\\*\\*\\*<br/>\n",
        "\\*\\*\\*\\*\\*\\*\\*\\*\\*\\*\\*\\*\\*\\*\\*\\*\\*\\*\\*\\*<br/>\n",
        "\\*\\*\\*\\*\\*\\*\\*\\*\\*\\*\\*\\*\\*\\*\\*\\*\\*\\*\\*\\*<br/>\n",
        "\\*\\*\\*\\*\\*\\*\\*\\*\\*\\*\\*\\*\\*\\*\\*\\*\\*\\*\\*\\*<br/>\n",
        "\\*\\*\\*\\*\\*\\*\\*\\*\\*\\*\\*\\*\\*\\*\\*\\*\\*\\*\\*\\*<br/>\n",
        "\\*\\*\\*\\*\\*\\*\\*\\*\\*\\*\\*\\*\\*\\*\\*\\*\\*\\*\\*\\*<br/>\n",
        "Informe se deseja imprimir outro retângulo (s/n): s<br/>\n",
        "Informe a altura do retângulo: 5<br/>\n",
        "Informe a largura do retângulo: 6<br/>\n",
        "\\*\\*\\*\\*\\*\\*<br/>\n",
        "\\*\\*\\*\\*\\*\\*<br/>\n",
        "\\*\\*\\*\\*\\*\\*<br/>\n",
        "\\*\\*\\*\\*\\*\\*<br/>\n",
        "\\*\\*\\*\\*\\*\\*<br/>\n",
        "Informe se deseja imprimir outro retângulo (s/n): n<br/>"
      ]
    },
    {
      "cell_type": "code",
      "execution_count": 58,
      "metadata": {
        "id": "996CAYaU1Eha"
      },
      "outputs": [
        {
          "name": "stdout",
          "output_type": "stream",
          "text": [
            "********************\n",
            "********************\n",
            "********************\n",
            "********************\n",
            "********************\n",
            "********************\n",
            "********************\n",
            "********************\n",
            "********************\n",
            "********************\n",
            "******\n",
            "******\n",
            "******\n",
            "******\n",
            "******\n"
          ]
        },
        {
          "ename": "KeyboardInterrupt",
          "evalue": "Interrupted by user",
          "output_type": "error",
          "traceback": [
            "\u001b[1;31m---------------------------------------------------------------------------\u001b[0m",
            "\u001b[1;31mKeyboardInterrupt\u001b[0m                         Traceback (most recent call last)",
            "Cell \u001b[1;32mIn[58], line 27\u001b[0m\n\u001b[0;32m     24\u001b[0m     \u001b[39mprint\u001b[39m(\u001b[39m'\u001b[39m\u001b[39m'\u001b[39m)\n\u001b[0;32m     25\u001b[0m     contador_altura \u001b[39m+\u001b[39m\u001b[39m=\u001b[39m\u001b[39m1\u001b[39m\n\u001b[1;32m---> 27\u001b[0m imprimir \u001b[39m=\u001b[39m \u001b[39minput\u001b[39;49m(\u001b[39m\"\u001b[39;49m\u001b[39mInforme se deseja imprimir um retângulo (s/n): \u001b[39;49m\u001b[39m\"\u001b[39;49m)\n",
            "File \u001b[1;32m~\\AppData\\Roaming\\Python\\Python311\\site-packages\\ipykernel\\kernelbase.py:1191\u001b[0m, in \u001b[0;36mKernel.raw_input\u001b[1;34m(self, prompt)\u001b[0m\n\u001b[0;32m   1189\u001b[0m     msg \u001b[39m=\u001b[39m \u001b[39m\"\u001b[39m\u001b[39mraw_input was called, but this frontend does not support input requests.\u001b[39m\u001b[39m\"\u001b[39m\n\u001b[0;32m   1190\u001b[0m     \u001b[39mraise\u001b[39;00m StdinNotImplementedError(msg)\n\u001b[1;32m-> 1191\u001b[0m \u001b[39mreturn\u001b[39;00m \u001b[39mself\u001b[39;49m\u001b[39m.\u001b[39;49m_input_request(\n\u001b[0;32m   1192\u001b[0m     \u001b[39mstr\u001b[39;49m(prompt),\n\u001b[0;32m   1193\u001b[0m     \u001b[39mself\u001b[39;49m\u001b[39m.\u001b[39;49m_parent_ident[\u001b[39m\"\u001b[39;49m\u001b[39mshell\u001b[39;49m\u001b[39m\"\u001b[39;49m],\n\u001b[0;32m   1194\u001b[0m     \u001b[39mself\u001b[39;49m\u001b[39m.\u001b[39;49mget_parent(\u001b[39m\"\u001b[39;49m\u001b[39mshell\u001b[39;49m\u001b[39m\"\u001b[39;49m),\n\u001b[0;32m   1195\u001b[0m     password\u001b[39m=\u001b[39;49m\u001b[39mFalse\u001b[39;49;00m,\n\u001b[0;32m   1196\u001b[0m )\n",
            "File \u001b[1;32m~\\AppData\\Roaming\\Python\\Python311\\site-packages\\ipykernel\\kernelbase.py:1234\u001b[0m, in \u001b[0;36mKernel._input_request\u001b[1;34m(self, prompt, ident, parent, password)\u001b[0m\n\u001b[0;32m   1231\u001b[0m \u001b[39mexcept\u001b[39;00m \u001b[39mKeyboardInterrupt\u001b[39;00m:\n\u001b[0;32m   1232\u001b[0m     \u001b[39m# re-raise KeyboardInterrupt, to truncate traceback\u001b[39;00m\n\u001b[0;32m   1233\u001b[0m     msg \u001b[39m=\u001b[39m \u001b[39m\"\u001b[39m\u001b[39mInterrupted by user\u001b[39m\u001b[39m\"\u001b[39m\n\u001b[1;32m-> 1234\u001b[0m     \u001b[39mraise\u001b[39;00m \u001b[39mKeyboardInterrupt\u001b[39;00m(msg) \u001b[39mfrom\u001b[39;00m \u001b[39mNone\u001b[39;00m\n\u001b[0;32m   1235\u001b[0m \u001b[39mexcept\u001b[39;00m \u001b[39mException\u001b[39;00m:\n\u001b[0;32m   1236\u001b[0m     \u001b[39mself\u001b[39m\u001b[39m.\u001b[39mlog\u001b[39m.\u001b[39mwarning(\u001b[39m\"\u001b[39m\u001b[39mInvalid Message:\u001b[39m\u001b[39m\"\u001b[39m, exc_info\u001b[39m=\u001b[39m\u001b[39mTrue\u001b[39;00m)\n",
            "\u001b[1;31mKeyboardInterrupt\u001b[0m: Interrupted by user"
          ]
        }
      ],
      "source": [
        "imprimir = input(\"Informe se deseja imprimir um retângulo (s/n): \")\n",
        "if imprimir == 'n':\n",
        "    print(\"Ok! Encerrando o programa...\")\n",
        "else:\n",
        "    while imprimir == 's':\n",
        "\n",
        "\n",
        "        a = int(input(\"Digite a altura do retângulo: \"))\n",
        "        l = int(input(\"Digite a largura do retângulo: \"))\n",
        "        if a <= 0 or l <= 0 and l >= a:\n",
        "            print(\"Entrada inválida\")\n",
        "        while a <= 0 or l <= 0 and l >= a:\n",
        "            a = int(input(\"Digite a altura do retângulo: \"))\n",
        "            l = int(input(\"Digite a largura do retângulo: \"))\n",
        "        \n",
        "        contador_altura = 0\n",
        "        \n",
        "        while contador_altura < a:\n",
        "            contador_largura = 0\n",
        "            \n",
        "            while contador_largura < l:\n",
        "                print(\"*\", end='')\n",
        "                contador_largura +=1\n",
        "            print('')\n",
        "            contador_altura +=1\n",
        "            \n",
        "        imprimir = input(\"Informe se deseja imprimir um retângulo (s/n): \")\n",
        "\n",
        "        \n",
        "            \n",
        "        \n",
        "    \n",
        "\n",
        "    \n",
        "\n",
        "     \n"
      ]
    }
  ],
  "metadata": {
    "colab": {
      "provenance": []
    },
    "kernelspec": {
      "display_name": "Python 3",
      "name": "python3"
    },
    "language_info": {
      "codemirror_mode": {
        "name": "ipython",
        "version": 3
      },
      "file_extension": ".py",
      "mimetype": "text/x-python",
      "name": "python",
      "nbconvert_exporter": "python",
      "pygments_lexer": "ipython3",
      "version": "3.11.4"
    }
  },
  "nbformat": 4,
  "nbformat_minor": 0
}
