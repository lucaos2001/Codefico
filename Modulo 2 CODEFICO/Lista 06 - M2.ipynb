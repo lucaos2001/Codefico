{
  "cells": [
    {
      "cell_type": "markdown",
      "metadata": {
        "id": "824h-GzhQX-4"
      },
      "source": [
        "### **Questão 1**\n",
        "\n",
        "Implemente um programa que receba um dicionário como entrada e retorne o máximo e o mínimo dos valores do dicionário.\n",
        "\n"
      ]
    },
    {
      "cell_type": "markdown",
      "metadata": {
        "id": "rie0fzxbSGQ2"
      },
      "source": [
        "> O usuário deverá indicar o final do dicionário fazendo a entrada do valor 0 para o input Chave."
      ]
    },
    {
      "cell_type": "markdown",
      "metadata": {
        "id": "iJGDU4RWSTOu"
      },
      "source": [
        "Entrada: \\\n",
        "Chave: C1 \\\n",
        "Valor: 6\n",
        "\n",
        "Chave: C2 \\\n",
        "Valor: 37\n",
        "\n",
        "Chave: C3 \\\n",
        "Valor: 44\n",
        "\n",
        "Chave: C4 \\\n",
        "Valor: 2\n",
        "\n",
        "Chave: C5 \\\n",
        "Valor: 24\n",
        "\n",
        "Chave: 0 \\\n",
        "\n",
        "Saída: \\\n",
        "\n",
        "O maior valor é 44 e o menor é 2"
      ]
    },
    {
      "cell_type": "code",
      "execution_count": 12,
      "metadata": {
        "id": "wTkgHTSnA3mh"
      },
      "outputs": [
        {
          "name": "stdout",
          "output_type": "stream",
          "text": [
            "O maior valor é de 44 e o menor é de 2\n"
          ]
        }
      ],
      "source": [
        "#Código\n",
        "\n",
        "dic = {}\n",
        "maior = float('-inf')\n",
        "menor = 9999999999999\n",
        "\n",
        "while True:\n",
        "    chave = input(\"Chave\")\n",
        "    if chave == '0':\n",
        "        break\n",
        "    valor = int(input(\"Valor\"))\n",
        "    dic[chave] = valor\n",
        "\n",
        "for v in dic.values(): \n",
        "    if v > maior:\n",
        "        maior = v\n",
        "    elif v < menor:\n",
        "        menor = v\n",
        "\n",
        "print(f\"O maior valor é de {maior} e o menor é de {menor}\")\n",
        "\n"
      ]
    },
    {
      "cell_type": "markdown",
      "metadata": {
        "id": "Y_tsZ5UGV0d4"
      },
      "source": [
        "### **Questão 2**\n",
        "\n",
        "Implemente um programa que receba uma string e retorne um dicionario com as chaves como os caracteres e os valores como a quantidade de vezes aquele caractere aparece na string."
      ]
    },
    {
      "cell_type": "markdown",
      "metadata": {
        "id": "ZtBIPvHMn2xm"
      },
      "source": [
        "**Exemplo 1**\n",
        "\n",
        "Entrada: \\\n",
        "\n",
        "String: Hello, World! \\\n",
        "\n",
        "Saída:\n",
        "\n",
        "```\n",
        "{ 'H': 1, 'e':1, 'l':3, 'o':2, ,',':1, 'w':1, 'r':1, 'd':1, '!': 1 }\n",
        "```"
      ]
    },
    {
      "cell_type": "code",
      "execution_count": 14,
      "metadata": {
        "id": "YHw0HWI6oj3V"
      },
      "outputs": [
        {
          "name": "stdout",
          "output_type": "stream",
          "text": [
            "{'H': 1, 'e': 1, 'l': 3, 'o': 2, ',': 1, 'w': 1, 'r': 1, 'd': 1, '!': 1}\n"
          ]
        }
      ],
      "source": [
        "#Código\n",
        "def conta_caracteres(string):\n",
        "    resultado = {}\n",
        "    for c in string:\n",
        "        if c != ' ':\n",
        "            resultado[c] = resultado.get(c, 0) + 1\n",
        "    print(resultado)\n",
        "\n",
        "string = input(\"String: \")\n",
        "\n",
        "conta_caracteres(string)"
      ]
    },
    {
      "cell_type": "markdown",
      "metadata": {
        "id": "XhMm0HAzc2ch"
      },
      "source": [
        "### **Questão 3**\n",
        "\n",
        "Receba um dicionario com os nomes do alunos e suas notas, após isso retorne a média da nota dos alunos."
      ]
    },
    {
      "cell_type": "markdown",
      "metadata": {
        "id": "pUmXUmkLh3Zm"
      },
      "source": [
        "> Deve ser possível adicionar N alunos. Para definir a parada o input Aluno deve receber o valor 0."
      ]
    },
    {
      "cell_type": "markdown",
      "metadata": {
        "id": "INjn-EWYhhho"
      },
      "source": [
        "**Exemplo 1**\n",
        "\n",
        "Entrada: \\\n",
        "\n",
        "Aluno(a): Joao \\\n",
        "Nota: 4.7\n",
        "\n",
        "Aluno(a): Maria \\\n",
        "Nota: 5.3\n",
        "\n",
        "Aluno: 0\n",
        "\n",
        "Saída:\n",
        "\n",
        "Média: 5.0"
      ]
    },
    {
      "cell_type": "code",
      "execution_count": 18,
      "metadata": {
        "id": "gBZTXHl2ofoI"
      },
      "outputs": [
        {
          "name": "stdout",
          "output_type": "stream",
          "text": [
            "{'joao': 4.7, 'maira': 5.3}\n",
            "5.0\n"
          ]
        }
      ],
      "source": [
        "#Código\n",
        "import statistics\n",
        "dic = {}\n",
        "while True:\n",
        "    aluno = input(\"Aluno(a): \")\n",
        "    if aluno == \"0\":\n",
        "        break\n",
        "    nota = float(input(\"Nota: \"))\n",
        "    dic[aluno] = nota\n",
        "    \n",
        "media = statistics.mean(dic.values())\n",
        "    \n",
        "print(media)"
      ]
    },
    {
      "cell_type": "markdown",
      "metadata": {
        "id": "p4hMYLdvi778"
      },
      "source": [
        "**Questão 4**\n",
        "\n",
        "Implemente uma função que faça união de dois dicionários:\n"
      ]
    },
    {
      "cell_type": "markdown",
      "metadata": {
        "id": "gHvjZFKOjXRG"
      },
      "source": [
        "```\n",
        "d1 = {'a':1, 'b':2, 'c': 3}\n",
        "d2 = {'b':10, 'd': 20, 'e' 30}\n",
        "\n",
        "resultado = unir_dicionario(d1,d2)\n",
        "\n",
        "#resultado = {'a':1, 'b':2, 'c':3, 'd': 20, 'e': 30}\n",
        "```"
      ]
    },
    {
      "cell_type": "code",
      "execution_count": 23,
      "metadata": {
        "id": "Zz7FGW4ElzTp"
      },
      "outputs": [
        {
          "name": "stdout",
          "output_type": "stream",
          "text": [
            "[('a', 1), ('b', 2), ('c', 3), ('d', 20), ('e', 30)]\n"
          ]
        }
      ],
      "source": [
        "#Código\n",
        "\n",
        "def unir_dicionario(d1, d2):\n",
        "    resultado = dict(list(d2.items()) + list(d1.items()))\n",
        "    return resultado\n",
        "\n",
        "d1 = {'a':1, 'b':2, 'c': 3}\n",
        "d2 = {'b':10, 'd': 20, 'e': 30}\n",
        "\n",
        "print(sorted(unir_dicionario(d1,d2).items()))"
      ]
    },
    {
      "cell_type": "markdown",
      "metadata": {
        "id": "Cw5UwV9VlC6y"
      },
      "source": [
        "### **Questão Extra**\n",
        "\n",
        "Implemente uma função que faça a inversao de um dicionário:"
      ]
    },
    {
      "cell_type": "markdown",
      "metadata": {
        "id": "ntjkmMewlNZU"
      },
      "source": [
        "```\n",
        "d = {'a':1, 'b':2, 'c':2, 'd':3}\n",
        "\n",
        "resultado = inverter_dicionario(d)\n",
        "\n",
        "#resultado = {1:['a'], 2:['b','c'], 3:['d']}\n",
        "```"
      ]
    },
    {
      "cell_type": "code",
      "execution_count": 35,
      "metadata": {
        "id": "K7NdVrWwgeDe"
      },
      "outputs": [
        {
          "name": "stdout",
          "output_type": "stream",
          "text": [
            "{1: ['a'], 2: ['b', 'c'], 3: ['d']}\n"
          ]
        }
      ],
      "source": [
        "#Código\n",
        "def inverter_dicionario(d):\n",
        "    resultado = {}\n",
        "    for chave, valor in d.items():\n",
        "        if valor not in resultado:\n",
        "            resultado[valor] = [chave]\n",
        "        else:\n",
        "            resultado[valor].append(chave)\n",
        "    return resultado\n",
        "\n",
        "d = {'a':1, 'b':2, 'c':2, 'd':3}\n",
        "\n",
        "print(inverter_dicionario(d))"
      ]
    }
  ],
  "metadata": {
    "colab": {
      "provenance": []
    },
    "kernelspec": {
      "display_name": "Python 3",
      "name": "python3"
    },
    "language_info": {
      "codemirror_mode": {
        "name": "ipython",
        "version": 3
      },
      "file_extension": ".py",
      "mimetype": "text/x-python",
      "name": "python",
      "nbconvert_exporter": "python",
      "pygments_lexer": "ipython3",
      "version": "3.11.4"
    }
  },
  "nbformat": 4,
  "nbformat_minor": 0
}
