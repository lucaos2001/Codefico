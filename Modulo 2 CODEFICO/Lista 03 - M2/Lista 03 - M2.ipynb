{
  "cells": [
    {
      "cell_type": "markdown",
      "metadata": {
        "id": "dkLEfVSHRBfv"
      },
      "source": [
        "### **Questão 1**\n",
        "\n",
        "Desenvolva um programa em Python para gerenciar uma lista de contatos em um arquivo de texto. O programa deve fornecer um menu de opções para permitir ao usuário adicionar novos contatos, excluir contatos existentes e exibir a lista de contatos atualizada.\n",
        "\n",
        "Ao iniciar o programa, a lista de contatos será carregada a partir do arquivo \"contatos.txt\" (caso o arquivo exista). O programa exibirá um menu de opções para o usuário interagir e escolher as seguintes ações:\n",
        "\n",
        "1. **Adicionar contato**: O programa solicitará ao usuário que digite o nome e o número do contato a ser adicionado. Em seguida, o contato será adicionado à lista e gravado no arquivo.\n",
        "\n",
        "2. **Excluir contato**: O programa exibirá a lista de contatos atual e solicitará ao usuário que digite o número do contato a ser excluído. Em seguida, o contato será removido da lista e a lista atualizada será gravada no arquivo.\n",
        "\n",
        "3. **Exibir contatos**: O programa exibirá a lista de contatos atual, numerados sequencialmente.\n",
        "\n",
        "4. **Sair**: O programa será encerrado.\n",
        "\n",
        "Após a execução de cada ação (exceto sair), o programa deve exibir uma mensagem de confirmação adequada.\n",
        "\n",
        "**Exemplo de Execução:**\n",
        "\n",
        "Suponha que o arquivo \"contatos.txt\" já exista e contenha os seguintes contatos:\n",
        "\n",
        "```\n",
        "Pedro: 123456789\n",
        "Maria: 987654321\n",
        "```\n",
        "\n",
        "Ao iniciar o programa, ele exibirá o seguinte menu:\n",
        "\n",
        "```\n",
        "====== Menu Geral ======\n",
        "\t[1] - Adicionar Contato\n",
        "\t[2] - Excluir Contato\n",
        "\t[3] - Listar Contato\n",
        "\t[4] - Sair\n",
        "===========================\n",
        "\n",
        "Escolha uma opção:\n",
        "```\n",
        "\n",
        "Suponha que o usuário escolha a opção 1 para adicionar um novo contato:\n",
        "\n",
        "```\n",
        "Escolha uma opção: 1\n",
        "\n",
        "Digite o nome do contato: João\n",
        "Digite o número do contato: 555555555\n",
        "\n",
        "Contato adicionado com sucesso!\n",
        "```\n",
        "\n",
        "Em seguida, se o usuário escolher a opção 3 para exibir os contatos:\n",
        "\n",
        "```\n",
        "Escolha uma opção: 3\n",
        "\n",
        "Lista de Contatos:\n",
        "1. Pedro: 123456789\n",
        "2. Maria: 987654321\n",
        "3. João: 555555555\n",
        "```\n",
        "\n",
        "Se o usuário escolher a opção 2 para excluir um contato:\n",
        "\n",
        "```\n",
        "Escolha uma opção: 2\n",
        "\n",
        "Digite o número do contato a ser excluído: 2\n",
        "\n",
        "Contato excluído com sucesso!\n",
        "```\n",
        "\n",
        "E, por fim, se o usuário escolher a opção 4 para sair:\n",
        "\n",
        "```\n",
        "Escolha uma opção: 4\n",
        "\n",
        "Programa encerrado.\n",
        "```\n",
        "\n",
        "Após o encerramento do programa, o arquivo \"contatos.txt\" será atualizado com as alterações realizadas pelo usuário.\n",
        "\n",
        "Espera-se que o programa permita ao usuário adicionar, excluir e exibir contatos em um arquivo de gerenciamento de contatos, fornecendo uma interface intuitiva e funcional.\n",
        "\n",
        "Boa sorte na implementação do programa!\n"
      ]
    },
    {
      "cell_type": "code",
      "execution_count": 35,
      "metadata": {
        "id": "TMziK81NRF1Y"
      },
      "outputs": [
        {
          "name": "stdout",
          "output_type": "stream",
          "text": [
            "\n",
            "\t====== Menu Geral ======\n",
            "\t[1] - Adicionar Contato\n",
            "\t[2] - Excluir Contato\n",
            "\t[3] - Listar Contato\n",
            "\t[4] - Sair\n",
            "\t===========================\n",
            "\n",
            "Contato adicionado com Sucesso !\n",
            "\n",
            "\t====== Menu Geral ======\n",
            "\t[1] - Adicionar Contato\n",
            "\t[2] - Excluir Contato\n",
            "\t[3] - Listar Contato\n",
            "\t[4] - Sair\n",
            "\t===========================\n",
            "1. Pedro: 123456789\n",
            "2. Maria: 555555555\n",
            "3. Joao: 999999999\n",
            "4. Cleitim: 030310889\n",
            "5. Jucileu: 40028922\n",
            "\n",
            "\t====== Menu Geral ======\n",
            "\t[1] - Adicionar Contato\n",
            "\t[2] - Excluir Contato\n",
            "\t[3] - Listar Contato\n",
            "\t[4] - Sair\n",
            "\t===========================\n",
            "\n",
            "\t====== Menu Geral ======\n",
            "\t[1] - Adicionar Contato\n",
            "\t[2] - Excluir Contato\n",
            "\t[3] - Listar Contato\n",
            "\t[4] - Sair\n",
            "\t===========================\n",
            "1. Pedro: 123456789\n",
            "2. Maria: 555555555\n",
            "3. Cleitim: 030310889\n",
            "4. Jucileu: 40028922\n",
            "\n",
            "\t====== Menu Geral ======\n",
            "\t[1] - Adicionar Contato\n",
            "\t[2] - Excluir Contato\n",
            "\t[3] - Listar Contato\n",
            "\t[4] - Sair\n",
            "\t===========================\n",
            "Saindo do programa...\n"
          ]
        }
      ],
      "source": [
        "#Para facilitar, utilize o seguinte menu pronto:\n",
        "def adicionar_contato(nome, numero):\n",
        "  with open(\"contatos.txt\", \"a\") as arquivo_contatos:\n",
        "    arquivo_contatos.write(\"\\n\" + nome +\": \"+ numero)\n",
        "  print(\"\\nContato adicionado com Sucesso !\")\n",
        "\n",
        "def excluir_contato(n):\n",
        "  with open(\"contatos.txt\", \"r\") as arquivo_contatos: \n",
        "    linhas = arquivo_contatos.readlines()\n",
        "    \n",
        "    \n",
        "  with open(\"contatos.txt\", \"w\") as arquivo_contatos:\n",
        "    for i in range(0,len(linhas)):\n",
        "      if(i+1 != n):\n",
        "        arquivo_contatos.write(linhas[i])\n",
        "    \n",
        "def listar_contato():\n",
        "  with open(\"contatos.txt\", \"r\") as arquivo_contatos: \n",
        "    contatos = arquivo_contatos.readlines()\n",
        "    \n",
        "    if len(contatos) == 0:\n",
        "      print(\"Não há contatos na lista\")\n",
        "    else:\n",
        "      for i in range(len(contatos)):\n",
        "        contato = contatos[i].strip()\n",
        "        print(f\"{i + 1}. {contato}\")\n",
        "\n",
        "\n",
        "\n",
        "\n",
        "\n",
        "\n",
        "\n",
        "while True:\n",
        "  print(\"\\n\\t====== Menu Geral ======\")\n",
        "  print(\"\\t[1] - Adicionar Contato\")\n",
        "  print(\"\\t[2] - Excluir Contato\")\n",
        "  print(\"\\t[3] - Listar Contato\")\n",
        "  print(\"\\t[4] - Sair\")\n",
        "  print(\"\\t===========================\")\n",
        "  opcao = int(input(\"Escolha uma opção:\"))\n",
        "  if(opcao == 1):\n",
        "    nome = input(\"Digite o nome do contato: \")\n",
        "    numero = input(\"Digite o número do contato: \")\n",
        "    adicionar_contato(nome, numero)\n",
        "  \n",
        "  elif(opcao == 2):\n",
        "    n = int(input(\"Digite o número do contato a ser excluido: \"))\n",
        "    excluir_contato(n)\n",
        "  elif(opcao == 3):\n",
        "    listar_contato()\n",
        "  elif(opcao == 4):\n",
        "    print(\"Saindo do programa...\")\n",
        "    break\n",
        "  else:\n",
        "    print(f\"{opcao} - NÃO está entre as opções do MENU\")"
      ]
    },
    {
      "cell_type": "markdown",
      "metadata": {
        "id": "WELMk1UnwjbB"
      },
      "source": [
        "### **Questão 2**\n",
        "####Problema do TMA\n",
        "O tempo médio de atendimento (TMA) de uma central de teleatendimento é calculado\n",
        "pela média dos tempos de todos os atendimentos realizados em um período.\n",
        "O gerente de uma central deseja contratá-lo como analista chefe, porém, para testar suas\n",
        "habilidades de programador, lhe propôs o desafio de calcular o tempo médio de\n",
        "atendimento com base em um arquivo texto.\n",
        "O formato do arquivo é bastante simples. Cada linha do arquivo contém dois valores\n",
        "inteiros. O primeiro representa o momento de início do atendimento, o segundo o\n",
        "momento de fim de atendimento.\n",
        "Cada momento é medido em minutos a partir do início do horário do expediente. <br><br>\n",
        "Faça um programa que leia este arquivo e exiba na saída padrão o mínimo, o máximo, a moda e a média\n",
        "com uma casa decimal (um valor em cada linha, nesta ordem) do **tempo de atendimento**.\n",
        "\n",
        "Algumas considerações: \\\n",
        "• Cada momento está no intervalo fechado entre 0 e 1000. \\\n",
        "• O arquivo não está ordenado e terá no mínimo uma linha. \\\n",
        "• Se não existir moda ou se existir mais de um tempo de atendimento que seja a moda, imprima -1. \\\n",
        "• Tempo de atendimento = tempo final - tempo inicial"
      ]
    },
    {
      "cell_type": "markdown",
      "metadata": {
        "id": "ZCmRXRssxJSO"
      },
      "source": [
        "###Exemplo 1\n",
        "\n",
        "Arquivo: entrada.txt \\\n",
        "5 12 \\\n",
        "6 20 \\\n",
        "7 8 \\\n",
        "6 98 \\\n",
        "11 14 \\\n",
        "8 25 \\\n",
        "98 100 \\\n",
        "56 79 \\\n",
        "45 98 \\\n",
        "12 55 \\\n",
        "1 3 \\\n",
        "4 6 \\\n",
        "7 10 \\\n",
        "10 13 \\\n",
        "13 16 \\\n",
        "\n",
        "Saída: \\\n",
        "1 \\\n",
        "92 \\\n",
        "3 \\\n",
        "17,9 \\"
      ]
    },
    {
      "cell_type": "code",
      "execution_count": 96,
      "metadata": {
        "id": "4c54grmGSR7J"
      },
      "outputs": [
        {
          "name": "stdout",
          "output_type": "stream",
          "text": [
            "Tempo mínimo de atendimento: 1\n",
            "Tempo máximo de atendimento: 92\n",
            "A moda é: 3\n",
            "A média do tempo de atendimento: 17.9\n"
          ]
        }
      ],
      "source": [
        "#Escreva aqui seu código\n",
        "from collections import Counter\n",
        "with open(\"entrada.txt\", \"r\") as Entrada:\n",
        "    leitura = Entrada.readlines()\n",
        "\n",
        "atendimentos = []\n",
        "for linha in leitura:\n",
        "    line = []\n",
        "    inicio = linha.split()\n",
        "    for l in inicio:\n",
        "        line.append(int(l))  # Adiciona os valores como inteiros à lista\n",
        "    atendimento = line[1] - line[0]  # Calcula o tempo de atendimento\n",
        "    atendimentos.append(atendimento)  # Adiciona o tempo à lista de atendimentos\n",
        "\n",
        "\n",
        "minimo = min(atendimentos)\n",
        "maximo = max(atendimentos)\n",
        "media = sum(atendimentos) / len(atendimentos)\n",
        "counter = Counter(atendimentos) #calculo da moda, que é o número que se repete mais vezes\n",
        "moda = counter.most_common(2) #most_common(2) é usado para obter as duas entradas mais comuns\n",
        "if len(moda) == 1 or moda[0][1] != moda[1][1]: #a exibição da moda se dá em forma de tuplas\n",
        "    moda = moda[0][0] # se a moda de indice [0][1] for != da de [1][1] ou o len dela for 1 a moda será o primeiro número\n",
        "else:\n",
        "    moda = -1\n",
        "\n",
        "print(\"Tempo mínimo de atendimento:\", minimo)\n",
        "print(\"Tempo máximo de atendimento:\", maximo)\n",
        "print(\"A moda é:\", moda)\n",
        "print(f\"A média do tempo de atendimento: {media:.1f}\")\n",
        "\n",
        "\n",
        "    "
      ]
    },
    {
      "cell_type": "markdown",
      "metadata": {
        "id": "hA6X6axaz3rT"
      },
      "source": [
        "###**Questão 3**\n",
        "####Problema do Decifrador de Senhas\n",
        "Um determinado banco fornece aos seus clientes, além da senha numérica, uma senha\n",
        "de 3 letras que deve ser utilizada no caixa eletrônico na realização de operações. <br><br>\n",
        "O software do caixa eletrônico, para dificultar a ação de ladrões, solicita a entrada da senha\n",
        "de 3 letras em um \"teclado\" gráfico especial gerado aleatoriamente todas as vezes e\n",
        "exibido na tela do monitor.\n",
        "Neste teclado, cada uma das teclas contém uma quantidade de 4 letras distintas. Para\n",
        "digitar a senha, o usuário deve escolher em ordem as teclas que contenham as letras da\n",
        "sua senha. Por exemplo, sendo a senha ABC e existindo as teclas MNAU, ILKC, JIYB e\n",
        "OKLM o usuário deve pressionar as teclas MNAU, JIYB e ILKC nesta ordem. <br><br>\n",
        "Um contraventor observou determinados usuários do banco durante várias operações no\n",
        "caixa eletrônico e anotou as teclas pressionadas durante a operação. O banco, que grava\n",
        "a cada operação as teclas pressionadas pelo usuário, foi informado da atuação de tal\n",
        "criminoso e deseja fazer um programa para saber de quais clientes é necessário bloquear\n",
        "a senha.\n",
        "As senhas bloqueadas serão aquelas que, a partir das teclas pressionadas, o\n",
        "contraventor é capaz de saber, sem sombra de dúvida, qual é a senha de 3 letras do\n",
        "cliente. <br><br>\n",
        "Faça um programa que receberá 9 cadeias de caracteres do mesmo tamanho de um arquivo chamado: entrada.txt. Cada\n",
        "bloco de 3 cadeias conterá as letras das \"teclas\" gráficas pressionadas pelo usuário com\n",
        "relaçao a uma letra da senha.\n",
        "O primeiro bloco de 3 cadeias irá conter as teclas pressionadas com relação à primeira\n",
        "letra da senha, o segundo bloco as teclas pressionadas com relação à segunda e o\n",
        "terceiro bloco as teclas pressionadas com relação à terceira letra da senha.\n",
        "O programa deverá retornar 1 caso seja possível identificar (sem sombra de dúvidas)\n",
        "quais as letras da senha e 0 caso contrário."
      ]
    },
    {
      "cell_type": "markdown",
      "metadata": {
        "id": "OFHZECyr4Lzg"
      },
      "source": [
        "###EXEMPLO 1\n",
        "\n",
        "Arquivo: entrada.txt \\\n",
        "MNAU \\\n",
        "LACN \\\n",
        "AKIM \\\n",
        "IKJH \\\n",
        "ILKC \\\n",
        "JKBM \\\n",
        "MUDH \\\n",
        "ADIK \\\n",
        "HUDM \\\n",
        "\n",
        "Saída: \\\n",
        "1\n",
        "\n"
      ]
    },
    {
      "cell_type": "markdown",
      "metadata": {
        "id": "8owi3xdG4XAW"
      },
      "source": [
        "> A senha do exemplo 1 seria AKD, percebam que nas três primeiras entradas a letra a mais se repetir é A. Da 4 a 6 entrada temos o K e da 7 a 9 entrada temos a letra D.\n"
      ]
    },
    {
      "cell_type": "markdown",
      "metadata": {
        "id": "IZeUDq7NSiCI"
      },
      "source": [
        "> Não é necessário retornar a senha. A saída somente é 0 ou 1."
      ]
    },
    {
      "cell_type": "code",
      "execution_count": 7,
      "metadata": {
        "id": "aTDU64jpSUgq"
      },
      "outputs": [
        {
          "name": "stdout",
          "output_type": "stream",
          "text": [
            "1\n"
          ]
        }
      ],
      "source": [
        "with open('entradas.txt', 'r') as arquivo:\n",
        "    linhas = arquivo.readlines()\n",
        "\n",
        "linhas = [linha.strip() for linha in linhas]\n",
        "\n",
        "# Divide a lista de palavras em blocos de 3\n",
        "blocos = [linhas[i:i+3] for i in range(0, len(linhas), 3)]\n",
        "\n",
        "def ocorrencia_letra(string_1, string_2, string_3, letra):\n",
        "    # Verifica se a letra ocorre em todas as três strings\n",
        "    return letra in string_1 and letra in string_2 and letra in string_3\n",
        "\n",
        "def ocorrencia_senha(blocos):\n",
        "    for letra in blocos[0][0]:\n",
        "        if ocorrencia_letra(blocos[0][0], blocos[0][1], blocos[0][2], letra):\n",
        "            return 1\n",
        "    return 0\n",
        "\n",
        "resultado = ocorrencia_senha(blocos)\n",
        "print(resultado)"
      ]
    }
  ],
  "metadata": {
    "colab": {
      "provenance": []
    },
    "kernelspec": {
      "display_name": "Python 3",
      "name": "python3"
    },
    "language_info": {
      "codemirror_mode": {
        "name": "ipython",
        "version": 3
      },
      "file_extension": ".py",
      "mimetype": "text/x-python",
      "name": "python",
      "nbconvert_exporter": "python",
      "pygments_lexer": "ipython3",
      "version": "3.11.4"
    }
  },
  "nbformat": 4,
  "nbformat_minor": 0
}
