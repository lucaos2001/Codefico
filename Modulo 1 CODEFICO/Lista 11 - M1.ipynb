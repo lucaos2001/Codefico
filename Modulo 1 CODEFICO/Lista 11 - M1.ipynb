{
  "cells": [
    {
      "cell_type": "markdown",
      "metadata": {
        "id": "AKYWtwEb1JHN"
      },
      "source": []
    },
    {
      "cell_type": "markdown",
      "metadata": {
        "id": "-QZMxv6SIvSs"
      },
      "source": [
        "## Conteudo complementar\n",
        "O MMC (Mínimo Múltiplo Comum) é um conceito matemático utilizado para determinar o menor múltiplo comum de dois ou mais números inteiros. É o menor número inteiro positivo que é divisível por todos os números dados.\n",
        "\n",
        "Para calcular o MMC de dois números, é necessário encontrar os múltiplos de cada número até encontrar o primeiro múltiplo comum entre eles. O menor múltiplo comum será o resultado desse cálculo.\n",
        "\n",
        "Por exemplo, vamos calcular o MMC de 4 e 6:\n",
        "\n",
        "Múltiplos de 4: 4, 8, 12, 16, 20, 24, ...\n",
        "Múltiplos de 6: 6, 12, 18, 24, 30, ...\n",
        "Podemos ver que o primeiro múltiplo comum entre 4 e 6 é 12. Portanto, o MMC de 4 e 6 é 12.\n",
        "\n",
        "O MMC é útil em diversas áreas, especialmente em problemas que envolvem frações, divisão de números inteiros ou situações em que é necessário encontrar um valor comum para múltiplos diferentes."
      ]
    },
    {
      "cell_type": "markdown",
      "metadata": {
        "id": "m8d4zNPLwFAC"
      },
      "source": [
        "## Questão 1\n",
        "Faça um programa que calcule a multiplicação de dois números utilizando apenas a operação de soma.\n",
        "\n",
        "### Exemplo de execução 1:\n",
        "Digite o primeiro número: 8<br/>\n",
        "Digite o segundo número: 12<br/>\n",
        "A multiplicação de 8 por 12 é: 96<br/>"
      ]
    },
    {
      "cell_type": "code",
      "execution_count": 1,
      "metadata": {
        "id": "fE9TF8H81GcG"
      },
      "outputs": [
        {
          "name": "stdout",
          "output_type": "stream",
          "text": [
            "A multiplicação de 8 por 12 é: 96\n"
          ]
        }
      ],
      "source": [
        "num1 = int(input(\"Digite o primeiro número: \"))\n",
        "num2 = int(input(\"Digite o segundo número: \"))\n",
        "cont = 0\n",
        "soma = 0\n",
        "while  cont < num2:\n",
        "    cont += 1\n",
        "    soma = num1 + soma\n",
        "print(f\"A multiplicação de {num1} por {num2} é: {soma}\")"
      ]
    },
    {
      "cell_type": "markdown",
      "metadata": {
        "id": "ct1vZdfYwJaW"
      },
      "source": [
        "## Questão 2\n",
        "Faça um programa que calcule a média de n números informados pelo usuário até ele informar o número 0. Por exemplo, se o usuário informar os números 9 6 2 8 0, o programa deve calcular a média (9+ 6 + 2 + 8) / 4.\n",
        "\n",
        "### Exemplo de execução\n",
        "Digite um número (0 para sair): 5<br/>\n",
        "Digite um número (0 para sair): 8<br/>\n",
        "Digite um número (0 para sair): 3<br/>\n",
        "Digite um número (0 para sair): 0<br/>\n",
        "A média dos números digitados é: 5.333333333333333"
      ]
    },
    {
      "cell_type": "code",
      "execution_count": 32,
      "metadata": {
        "id": "e92_CD_M1GF1"
      },
      "outputs": [
        {
          "name": "stdout",
          "output_type": "stream",
          "text": [
            "A média dos números digitados é: 5.333333333333333\n"
          ]
        }
      ],
      "source": [
        "contador = 0\n",
        "soma = 0\n",
        "while True: \n",
        "    num = float(input(\"Digite o primeiro número: \"))\n",
        "    if num <= 0:\n",
        "        break\n",
        "    soma += num\n",
        "    contador += 1\n",
        "print(f\"A média dos números digitados é: {soma/contador}\")"
      ]
    },
    {
      "cell_type": "markdown",
      "metadata": {
        "id": "mnpugrALwOSn"
      },
      "source": [
        "## Questão 3\n",
        "\n",
        "Faça um programa que calcule o mínimo múltiplo comum (MMC) de dois inteiros.\n",
        "\n",
        "### Exemplo de execução 1:\n",
        "Digite o primeiro número: 8<br/>\n",
        "Digite o segundo número: 12<br/>\n",
        "O MMC de 8 e 12 é: 24\n",
        "\n",
        "### Exemplo de execução 2:\n",
        "Digite o primeiro número: 5<br/>\n",
        "Digite o segundo número: 7<br/>\n",
        "O MMC de 5 e 7 é: 35"
      ]
    },
    {
      "cell_type": "code",
      "execution_count": 73,
      "metadata": {
        "id": "sSTdhMkM1FxK"
      },
      "outputs": [
        {
          "name": "stdout",
          "output_type": "stream",
          "text": [
            "O MMC de 4 e 36 é: 36\n"
          ]
        }
      ],
      "source": [
        "num1 = int(input(\"Digite o primeiro número: \"))\n",
        "num2 = int(input(\"Digite o segundo número: \"))\n",
        "cont = 1\n",
        "while True:\n",
        "    if cont % num1 == 0 and cont % num2 == 0:\n",
        "        break\n",
        "    \n",
        "    cont +=1\n",
        "\n",
        "print(f\"O MMC de {num1} e {num2} é: {cont}\")"
      ]
    },
    {
      "cell_type": "markdown",
      "metadata": {
        "id": "p3gbRNKNwgHw"
      },
      "source": [
        "## Questão 4\n",
        "Para que serve o comando continue? Explique com suas palavras, e escreva um código que exemplifica sua explicação"
      ]
    },
    {
      "cell_type": "markdown",
      "metadata": {
        "id": "M8l2Ku6YGrgk"
      },
      "source": [
        "Resposta:"
      ]
    },
    {
      "cell_type": "code",
      "execution_count": 68,
      "metadata": {
        "id": "op_i7FwG1FTS"
      },
      "outputs": [
        {
          "name": "stdout",
          "output_type": "stream",
          "text": [
            "14\n"
          ]
        }
      ],
      "source": [
        "#O continue executa novamente uma validação dentro de um loop.\n",
        "\n",
        "while True:\n",
        "    num1 = int(input(\"Digite um numero\"))\n",
        "    if num1 < 0:\n",
        "        break\n",
        "    if num1 == 22:\n",
        "        num1 = int(input(\"22 não é um numero valido, digite outro numero\"))\n",
        "        continue\n",
        "    soma += num1\n",
        "    \n",
        "print(soma)"
      ]
    },
    {
      "cell_type": "markdown",
      "metadata": {
        "id": "bk_CG0DpxkJa"
      },
      "source": [
        "## Questão 5\n",
        "Faça um programa que desenha um retângulo de altura \"a\" e largura \"l\" usando asteriscos. O usuário deve informar os valores de \"a\" e \"l\", que devem ser maiores que zero e tais que l > a. Note que o seu programa deve\n",
        "garantir que os valores digitados sejam válidos, forçando entradas válidas. O programa também deve perguntar se o usuário gostaria de gerar um retângulo antes de fazer cada impressão. O programa termina assim que o\n",
        "usuário responder \"n\" à pergunta.<br/>\n",
        "### Exemplo de execução:\n",
        "Informe se deseja imprimir um retângulo (s/n): s<br/>\n",
        "Informe a altura do retângulo: 10<br/>\n",
        "Informe a largura do retângulo: 8<br/>\n",
        "Entrada inválida.<br/>\n",
        "Informe a altura do retângulo: 10<br/>\n",
        "Informe a largura do retângulo: 20<br/>\n",
        "\\*\\*\\*\\*\\*\\*\\*\\*\\*\\*\\*\\*\\*\\*\\*\\*\\*\\*\\*\\*<br/>\n",
        "\\*\\*\\*\\*\\*\\*\\*\\*\\*\\*\\*\\*\\*\\*\\*\\*\\*\\*\\*\\*<br/>\n",
        "\\*\\*\\*\\*\\*\\*\\*\\*\\*\\*\\*\\*\\*\\*\\*\\*\\*\\*\\*\\*<br/>\n",
        "\\*\\*\\*\\*\\*\\*\\*\\*\\*\\*\\*\\*\\*\\*\\*\\*\\*\\*\\*\\*<br/>\n",
        "\\*\\*\\*\\*\\*\\*\\*\\*\\*\\*\\*\\*\\*\\*\\*\\*\\*\\*\\*\\*<br/>\n",
        "\\*\\*\\*\\*\\*\\*\\*\\*\\*\\*\\*\\*\\*\\*\\*\\*\\*\\*\\*\\*<br/>\n",
        "\\*\\*\\*\\*\\*\\*\\*\\*\\*\\*\\*\\*\\*\\*\\*\\*\\*\\*\\*\\*<br/>\n",
        "\\*\\*\\*\\*\\*\\*\\*\\*\\*\\*\\*\\*\\*\\*\\*\\*\\*\\*\\*\\*<br/>\n",
        "\\*\\*\\*\\*\\*\\*\\*\\*\\*\\*\\*\\*\\*\\*\\*\\*\\*\\*\\*\\*<br/>\n",
        "\\*\\*\\*\\*\\*\\*\\*\\*\\*\\*\\*\\*\\*\\*\\*\\*\\*\\*\\*\\*<br/>\n",
        "Informe se deseja imprimir outro retângulo (s/n): s<br/>\n",
        "Informe a altura do retângulo: 5<br/>\n",
        "Informe a largura do retângulo: 6<br/>\n",
        "\\*\\*\\*\\*\\*\\*<br/>\n",
        "\\*\\*\\*\\*\\*\\*<br/>\n",
        "\\*\\*\\*\\*\\*\\*<br/>\n",
        "\\*\\*\\*\\*\\*\\*<br/>\n",
        "\\*\\*\\*\\*\\*\\*<br/>\n",
        "Informe se deseja imprimir outro retângulo (s/n): n<br/>"
      ]
    },
    {
      "cell_type": "code",
      "execution_count": 12,
      "metadata": {
        "id": "996CAYaU1Eha"
      },
      "outputs": [
        {
          "name": "stdout",
          "output_type": "stream",
          "text": [
            "****** \n",
            "****** \n",
            "****** \n",
            "****** \n",
            "****** \n",
            "Dados inválidos, digite novamente\n",
            "******************** \n",
            "******************** \n",
            "******************** \n",
            "******************** \n",
            "******************** \n",
            "******************** \n",
            "******************** \n",
            "******************** \n",
            "******************** \n",
            "******************** \n",
            "Saindo do programa...\n"
          ]
        }
      ],
      "source": [
        "def imprimir_retangulo(a, l):\n",
        "    contador_altura = 0 \n",
        "    while contador_altura < a:\n",
        "        contador_largura = 0\n",
        "        \n",
        "        while contador_largura < l:\n",
        "            print(\"*\", end='')\n",
        "            contador_largura +=1\n",
        "\n",
        "        print(\" \")\n",
        "        contador_altura +=1\n",
        "            \n",
        "imprimir = input(\"Informe se deseja imprimir um retângulo (s/n): \").lower()\n",
        "\n",
        "\n",
        "while imprimir == 's':\n",
        "    \n",
        "    a = int(input(\"Digite a altura do retângulo: \"))\n",
        "    l = int(input(\"Digite a largura do retângulo: \"))\n",
        "        \n",
        "    while a <= 0 or l <= 0 or l < a: \n",
        "        print(\"Dados inválidos, digite novamente\")\n",
        "        a = int(input(\"Digite a altura do retângulo: \"))\n",
        "        l = int(input(\"Digite a largura do retângulo: \"))\n",
        "        \n",
        "    imprimir_retangulo(a, l)\n",
        "\n",
        "    imprimir = input(\"Informe se deseja imprimir um retângulo (s/n): \").lower()\n",
        "\n",
        "print('Saindo do programa...')\n",
        "\n",
        "\n",
        "\n",
        "\n",
        "            \n",
        "        \n",
        "    \n",
        "\n",
        "    \n",
        "\n",
        "     \n"
      ]
    }
  ],
  "metadata": {
    "colab": {
      "provenance": []
    },
    "kernelspec": {
      "display_name": "Python 3",
      "name": "python3"
    },
    "language_info": {
      "codemirror_mode": {
        "name": "ipython",
        "version": 3
      },
      "file_extension": ".py",
      "mimetype": "text/x-python",
      "name": "python",
      "nbconvert_exporter": "python",
      "pygments_lexer": "ipython3",
      "version": "3.11.4"
    }
  },
  "nbformat": 4,
  "nbformat_minor": 0
}
